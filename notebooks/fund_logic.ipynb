{
 "cells": [
  {
   "cell_type": "code",
   "execution_count": 1,
   "id": "4031a066",
   "metadata": {},
   "outputs": [],
   "source": [
    "import unittest\n",
    "from collections import defaultdict\n",
    "import pdb\n",
    "import datetime\n",
    "from decimal import *\n",
    "getcontext().prec = 6"
   ]
  },
  {
   "cell_type": "code",
   "execution_count": 2,
   "id": "0813088d",
   "metadata": {},
   "outputs": [],
   "source": [
    "init_price_token = [datetime.datetime(1971,1,1,0,0,0).timestamp(), 0]"
   ]
  },
  {
   "cell_type": "code",
   "execution_count": 126,
   "id": "a3bf3b71",
   "metadata": {},
   "outputs": [],
   "source": [
    "class Fund:\n",
    "    # ToDo - Replace token_name -> token_address\n",
    "\n",
    "    curr_iteration = 0\n",
    "    \n",
    "    def __init__(self):\n",
    "        self.token_balances = {'WETH': 0, 'DAI': 0}\n",
    "        self.token_prices = {'WETH': None, 'DAI': None}\n",
    "        self.shareholders_share = {}\n",
    "    \n",
    "    def tick(self):\n",
    "        self.curr_iteration += 1\n",
    "    \n",
    "    def get_price(self, token_name):\n",
    "        if token_name == 'WETH':\n",
    "            return Decimal(3000) * (1 + (self.curr_iteration*Decimal('0.5'))) # 10% increase at each iteration\n",
    "        elif token_name == 'DAI':\n",
    "            return Decimal(1)\n",
    "        else:\n",
    "            raise Exception('price not found')\n",
    "    \n",
    "    def refresh_prices(self, token_name):\n",
    "        self.token_prices[token_name] = self.get_price(token_name)\n",
    "        # refresh other tokens\n",
    "        for k,v in self.token_prices.items():\n",
    "            if k != token_name:\n",
    "                self.token_prices[k] = self.get_price(k)\n",
    "        \n",
    "    \n",
    "    def emergency_price_update(self):\n",
    "        # ToDo - Update all tokens\n",
    "        pass\n",
    "\n",
    "    # ToDo - Update prices whenever deposit() or withdraw()\n",
    "    \n",
    "    def deposit(self, depositor, token_name, token_quantity):\n",
    "        \n",
    "        self.refresh_prices(token_name)\n",
    "        print('token_prices', self.token_prices)\n",
    "        \n",
    "        # get total value of fund\n",
    "        old_usd_balance = Decimal(0)\n",
    "        for temp_token_name, temp_token_balance in self.token_balances.items():\n",
    "            temp_token_price = self.token_prices[temp_token_name]\n",
    "            token_usd_value = temp_token_price * temp_token_balance\n",
    "            #pdb.set_trace()\n",
    "            old_usd_balance += token_usd_value\n",
    "        # sum with token_quantity * price\n",
    "        token_price = self.token_prices[token_name]\n",
    "        new_deposit = token_quantity * token_price\n",
    "        # determine pct of depositor\n",
    "        new_usd_balance = (new_deposit + old_usd_balance)\n",
    "        #pdb.set_trace()\n",
    "        pct_depositor = new_deposit / new_usd_balance\n",
    "        \n",
    "        # updates\n",
    "        self.shareholders_share[depositor] = pct_depositor\n",
    "        self.token_balances[token_name] += token_quantity\n",
    "        \n",
    "        # determine pct of previous depositors\n",
    "        for address, pct_total_holdings in self.shareholders_share.items():\n",
    "            if not address == depositor:\n",
    "                new_pct = (pct_total_holdings*old_usd_balance) / new_usd_balance\n",
    "                self.shareholders_share[address] = new_pct\n",
    "        \n",
    "        print ('shareholders {} old_usd_balance {} new_usd_balance {} token balances {}'.format(\n",
    "            self.shareholders_share, old_usd_balance, new_usd_balance, self.token_balances))"
   ]
  },
  {
   "cell_type": "code",
   "execution_count": 110,
   "id": "e5c87d1a",
   "metadata": {},
   "outputs": [
    {
     "name": "stdout",
     "output_type": "stream",
     "text": [
      "token_prices {'WETH': Decimal('3000.0'), 'DAI': Decimal('1')}\n",
      "shareholders {'alice': Decimal('1')} old_usd_balance 0.0 new_usd_balance 100.0\n",
      "token balances {'WETH': 0, 'DAI': 100}\n"
     ]
    }
   ],
   "source": [
    "# test deposit\n",
    "f = Fund()\n",
    "initial_balance = f.token_balances['DAI']\n",
    "unittest.TestCase().assertEqual(initial_balance, 0, 'oi')\n",
    "deposit_alice = 100\n",
    "f.deposit('alice', 'DAI', deposit_alice)\n",
    "unittest.TestCase().assertEqual(f.token_balances['DAI'], deposit_alice, 'ops')\n",
    "unittest.TestCase().assertEqual(f.shareholders_share['alice'], Decimal(1), 'ops')"
   ]
  },
  {
   "cell_type": "code",
   "execution_count": 111,
   "id": "3493b1db",
   "metadata": {},
   "outputs": [
    {
     "name": "stdout",
     "output_type": "stream",
     "text": [
      "token_prices {'WETH': Decimal('3000.0'), 'DAI': Decimal('1')}\n",
      "shareholders {'alice': Decimal('0.25'), 'bob': Decimal('0.75')} old_usd_balance 100.0 new_usd_balance 400.0\n",
      "token balances {'WETH': 0, 'DAI': 400}\n"
     ]
    }
   ],
   "source": [
    "deposit_bob = 300\n",
    "f.deposit('bob', 'DAI', deposit_bob)\n",
    "unittest.TestCase().assertEqual(f.token_balances['DAI'], deposit_alice + deposit_bob, 'token balance does not match')\n",
    "unittest.TestCase().assertEqual(f.shareholders_share['alice'], Decimal(0.25), 'token pct Alice does not match')\n",
    "unittest.TestCase().assertEqual(f.shareholders_share['bob'], Decimal(0.75), 'token pct Alice does not match')"
   ]
  },
  {
   "cell_type": "code",
   "execution_count": 112,
   "id": "cb3e900e",
   "metadata": {},
   "outputs": [
    {
     "name": "stdout",
     "output_type": "stream",
     "text": [
      "token_prices {'WETH': Decimal('3000.0'), 'DAI': Decimal('1')}\n",
      "shareholders {'alice': Decimal('0.10'), 'bob': Decimal('0.30'), 'eve': Decimal('0.6')} old_usd_balance 400.0 new_usd_balance 1000.0\n",
      "token balances {'WETH': 0, 'DAI': 1000}\n"
     ]
    }
   ],
   "source": [
    "deposit_eve = 600\n",
    "f.deposit('eve', 'DAI', deposit_eve)\n",
    "unittest.TestCase().assertEqual(f.token_balances['DAI'], deposit_alice + deposit_bob + deposit_eve)\n",
    "unittest.TestCase().assertEqual(f.shareholders_share['alice'], Decimal('0.1'))\n",
    "unittest.TestCase().assertEqual(f.shareholders_share['bob'], Decimal('0.3'))\n",
    "unittest.TestCase().assertEqual(f.shareholders_share['eve'], Decimal('0.6'))"
   ]
  },
  {
   "cell_type": "code",
   "execution_count": 113,
   "id": "78c12fff",
   "metadata": {},
   "outputs": [
    {
     "name": "stdout",
     "output_type": "stream",
     "text": [
      "token_prices {'WETH': Decimal('3000.0'), 'DAI': Decimal('1')}\n",
      "shareholders {'alice2': Decimal('1')} old_usd_balance 0.0 new_usd_balance 3000.0\n",
      "token balances {'WETH': 1, 'DAI': 0}\n",
      "token_prices {'WETH': Decimal('3000.0'), 'DAI': Decimal('1')}\n",
      "shareholders {'alice2': Decimal('0.5'), 'bob2': Decimal('0.5')} old_usd_balance 3000.0 new_usd_balance 6000.0\n",
      "token balances {'WETH': 1, 'DAI': 3000}\n"
     ]
    }
   ],
   "source": [
    "# Test WETH\n",
    "fweth = Fund()\n",
    "deposit_weth = 1\n",
    "fweth.deposit('alice2','WETH',deposit_weth)\n",
    "unittest.TestCase().assertEqual(fweth.token_balances['WETH'], deposit_weth)\n",
    "unittest.TestCase().assertEqual(fweth.shareholders_share['alice2'], Decimal(1))\n",
    "deposit_dai = 3000\n",
    "fweth.deposit('bob2','DAI',deposit_dai)\n",
    "#unittest.TestCase().assertEqual(fweth.token_balances['DAI'], deposit_dai)\n",
    "#unittest.TestCase().assertEqual(fweth.shareholders_share['alice2'], Decimal('0.5'))\n",
    "#unittest.TestCase().assertEqual(fweth.shareholders_share['bob2'], Decimal('0.5'))"
   ]
  },
  {
   "cell_type": "code",
   "execution_count": 114,
   "id": "075598cf",
   "metadata": {},
   "outputs": [],
   "source": [
    "# Another test for when price changes"
   ]
  },
  {
   "cell_type": "code",
   "execution_count": 132,
   "id": "6f2b96b7",
   "metadata": {},
   "outputs": [
    {
     "name": "stdout",
     "output_type": "stream",
     "text": [
      "token_prices {'WETH': Decimal('3000.0'), 'DAI': Decimal('1')}\n",
      "shareholders {'alice': Decimal('1')} old_usd_balance 0.0 new_usd_balance 3000.0 token balances {'WETH': 1, 'DAI': 0}\n",
      "token_prices {'WETH': Decimal('4500.0'), 'DAI': Decimal('1')}\n",
      "shareholders {'alice': Decimal('0.5'), 'bob': Decimal('0.5')} old_usd_balance 4500.0 new_usd_balance 9000.0 token balances {'WETH': 2, 'DAI': 0}\n"
     ]
    }
   ],
   "source": [
    "ftick = Fund()\n",
    "deposit_john = 1\n",
    "ftick.deposit('alice','WETH',deposit_john)\n",
    "unittest.TestCase().assertEqual(ftick.token_prices['WETH'], Decimal(3000))\n",
    "# now weth worth 4500\n",
    "ftick.tick()\n",
    "ftick.deposit('bob','WETH',deposit_john)\n",
    "unittest.TestCase().assertEqual(ftick.shareholders_share['bob'], Decimal('0.5'))\n",
    "unittest.TestCase().assertEqual(ftick.shareholders_share['alice'], Decimal('0.5'))"
   ]
  },
  {
   "cell_type": "code",
   "execution_count": 133,
   "id": "54ee600c",
   "metadata": {},
   "outputs": [
    {
     "name": "stdout",
     "output_type": "stream",
     "text": [
      "token_prices {'WETH': Decimal('3000.0'), 'DAI': Decimal('1')}\n",
      "shareholders {'alice': Decimal('1')} old_usd_balance 0.0 new_usd_balance 3000.0 token balances {'WETH': 1, 'DAI': 0}\n",
      "token_prices {'WETH': Decimal('4500.0'), 'DAI': Decimal('1')}\n",
      "shareholders {'alice': Decimal('0.5'), 'bob': Decimal('0.5')} old_usd_balance 4500.0 new_usd_balance 9000.0 token balances {'WETH': 1, 'DAI': 4500}\n"
     ]
    }
   ],
   "source": [
    "ftickDAI = Fund()\n",
    "deposit_alice = 1\n",
    "ftickDAI.deposit('alice','WETH',deposit_alice)\n",
    "ftickDAI.tick()\n",
    "deposit_bob = 4500\n",
    "ftickDAI.deposit('bob','DAI',deposit_bob)\n",
    "unittest.TestCase().assertEqual(ftickDAI.shareholders_share['bob'], Decimal('0.5'))\n",
    "unittest.TestCase().assertEqual(ftickDAI.shareholders_share['alice'], Decimal('0.5'))"
   ]
  },
  {
   "cell_type": "code",
   "execution_count": null,
   "id": "1f93661c",
   "metadata": {},
   "outputs": [],
   "source": []
  }
 ],
 "metadata": {
  "kernelspec": {
   "display_name": "Python 3 (ipykernel)",
   "language": "python",
   "name": "python3"
  },
  "language_info": {
   "codemirror_mode": {
    "name": "ipython",
    "version": 3
   },
   "file_extension": ".py",
   "mimetype": "text/x-python",
   "name": "python",
   "nbconvert_exporter": "python",
   "pygments_lexer": "ipython3",
   "version": "3.9.7"
  }
 },
 "nbformat": 4,
 "nbformat_minor": 5
}
