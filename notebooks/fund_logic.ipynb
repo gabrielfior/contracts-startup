{
 "cells": [
  {
   "cell_type": "code",
   "execution_count": 1,
   "id": "4031a066",
   "metadata": {},
   "outputs": [],
   "source": [
    "import unittest\n",
    "from collections import defaultdict\n",
    "import pdb\n",
    "import datetime\n",
    "from decimal import *\n",
    "getcontext().prec = 6"
   ]
  },
  {
   "cell_type": "code",
   "execution_count": 2,
   "id": "0813088d",
   "metadata": {},
   "outputs": [],
   "source": [
    "init_price_token = [datetime.datetime(1971,1,1,0,0,0).timestamp(), 0]"
   ]
  },
  {
   "cell_type": "code",
   "execution_count": 3,
   "id": "a3bf3b71",
   "metadata": {},
   "outputs": [],
   "source": [
    "class Fund:\n",
    "    # ToDo - Replace token_name -> token_address\n",
    "\n",
    "    price_refresh_deadline = 900 # 15min\n",
    "    \n",
    "    def __init__(self):\n",
    "        self.token_balances = {'WETH': 0, 'DAI': 0}\n",
    "        self.token_prices = {'WETH': init_price_token, 'DAI': init_price_token}\n",
    "        self.shareholders_share = {}\n",
    "        \n",
    "    def is_price_too_old(self, old_price_retrieval_timestamp):\n",
    "        return (self.now() - old_price_retrieval_timestamp) > self.price_refresh_deadline\n",
    "    \n",
    "    def get_price(self, token_name):\n",
    "        if token_name == 'WETH':\n",
    "            return Decimal(3000)\n",
    "        elif token_name == 'DAI':\n",
    "            return Decimal(1)\n",
    "        else:\n",
    "            raise Exception('price not found')\n",
    "    \n",
    "    def now(self):\n",
    "        return int(datetime.datetime.now().timestamp())\n",
    "    \n",
    "    def refresh_prices(self, token_name):\n",
    "        updated_at_timestamp, _ = self.token_prices[token_name]\n",
    "        if self.is_price_too_old(updated_at_timestamp):\n",
    "            self.add_fresh_token_price(token_name)\n",
    "        \n",
    "    def add_fresh_token_price(self, token_name):\n",
    "        self.token_prices[token_name] = [self.now(),self.get_price(token_name)]\n",
    "    \n",
    "    def deposit(self, depositor, token_name, token_quantity):\n",
    "        \n",
    "        self.refresh_prices(token_name)\n",
    "        print('token_prices', self.token_prices)\n",
    "        \n",
    "        # get total value of fund\n",
    "        old_usd_balance = Decimal(0)\n",
    "        for temp_token_name, temp_token_balance in self.token_balances.items():\n",
    "            _, temp_token_price = self.token_prices[temp_token_name]\n",
    "            print ('HERE token {} temp_token_price {}'.format(temp_token_name, temp_token_price))\n",
    "            token_usd_value = temp_token_price * temp_token_balance\n",
    "            old_usd_balance += token_usd_value\n",
    "        # sum with token_quantity * price\n",
    "        print ('old usd balance {}'.format(old_usd_balance))\n",
    "        _, token_price = self.token_prices[token_name]\n",
    "        new_deposit = token_quantity * token_price\n",
    "        # determine pct of depositor\n",
    "        new_usd_balance = (new_deposit + old_usd_balance)\n",
    "        #pdb.set_trace()\n",
    "        pct_depositor = new_deposit / new_usd_balance\n",
    "        \n",
    "        # updates\n",
    "        self.shareholders_share[depositor] = pct_depositor\n",
    "        self.token_balances[token_name] += token_quantity\n",
    "        \n",
    "        # determine pct of previous depositors\n",
    "        for address, pct_total_holdings in self.shareholders_share.items():\n",
    "            if not address == depositor:\n",
    "                new_pct = (pct_total_holdings*old_usd_balance) / new_usd_balance\n",
    "                print ('new_pct {} pct_total_holdings {}'.format(new_pct, pct_total_holdings))\n",
    "                self.shareholders_share[address] = new_pct\n",
    "        \n",
    "        print ('shareholders {} old_usd_balance {} new_usd_balance {}'.format(self.shareholders_share, old_usd_balance,\n",
    "                                                                             new_usd_balance))\n",
    "        print ('token balances {}'.format(self.token_balances))"
   ]
  },
  {
   "cell_type": "code",
   "execution_count": 4,
   "id": "e5c87d1a",
   "metadata": {},
   "outputs": [
    {
     "name": "stdout",
     "output_type": "stream",
     "text": [
      "token_prices {'WETH': [31532400.0, 0], 'DAI': [1649011725, Decimal('1')]}\n",
      "HERE token WETH temp_token_price 0\n",
      "HERE token DAI temp_token_price 1\n",
      "old usd balance 0\n",
      "shareholders {'alice': Decimal('1')} old_usd_balance 0 new_usd_balance 100\n",
      "token balances {'WETH': 0, 'DAI': 100}\n"
     ]
    }
   ],
   "source": [
    "# test deposit\n",
    "f = Fund()\n",
    "initial_balance = f.token_balances['DAI']\n",
    "unittest.TestCase().assertEqual(initial_balance, 0, 'oi')\n",
    "deposit_alice = 100\n",
    "f.deposit('alice', 'DAI', deposit_alice)\n",
    "unittest.TestCase().assertEqual(f.token_balances['DAI'], deposit_alice, 'ops')\n",
    "unittest.TestCase().assertEqual(f.shareholders_share['alice'], Decimal(1), 'ops')"
   ]
  },
  {
   "cell_type": "code",
   "execution_count": 5,
   "id": "3493b1db",
   "metadata": {},
   "outputs": [
    {
     "name": "stdout",
     "output_type": "stream",
     "text": [
      "token_prices {'WETH': [31532400.0, 0], 'DAI': [1649011725, Decimal('1')]}\n",
      "HERE token WETH temp_token_price 0\n",
      "HERE token DAI temp_token_price 1\n",
      "old usd balance 100\n",
      "new_pct 0.25 pct_total_holdings 1\n",
      "shareholders {'alice': Decimal('0.25'), 'bob': Decimal('0.75')} old_usd_balance 100 new_usd_balance 400\n",
      "token balances {'WETH': 0, 'DAI': 400}\n"
     ]
    }
   ],
   "source": [
    "deposit_bob = 300\n",
    "f.deposit('bob', 'DAI', deposit_bob)\n",
    "unittest.TestCase().assertEqual(f.token_balances['DAI'], deposit_alice + deposit_bob, 'token balance does not match')\n",
    "unittest.TestCase().assertEqual(f.shareholders_share['alice'], Decimal(0.25), 'token pct Alice does not match')\n",
    "unittest.TestCase().assertEqual(f.shareholders_share['bob'], Decimal(0.75), 'token pct Alice does not match')"
   ]
  },
  {
   "cell_type": "code",
   "execution_count": 6,
   "id": "cb3e900e",
   "metadata": {},
   "outputs": [
    {
     "name": "stdout",
     "output_type": "stream",
     "text": [
      "token_prices {'WETH': [31532400.0, 0], 'DAI': [1649011725, Decimal('1')]}\n",
      "HERE token WETH temp_token_price 0\n",
      "HERE token DAI temp_token_price 1\n",
      "old usd balance 400\n",
      "new_pct 0.10 pct_total_holdings 0.25\n",
      "new_pct 0.30 pct_total_holdings 0.75\n",
      "shareholders {'alice': Decimal('0.10'), 'bob': Decimal('0.30'), 'eve': Decimal('0.6')} old_usd_balance 400 new_usd_balance 1000\n",
      "token balances {'WETH': 0, 'DAI': 1000}\n"
     ]
    }
   ],
   "source": [
    "deposit_eve = 600\n",
    "f.deposit('eve', 'DAI', deposit_eve)\n",
    "unittest.TestCase().assertEqual(f.token_balances['DAI'], deposit_alice + deposit_bob + deposit_eve)\n",
    "unittest.TestCase().assertEqual(f.shareholders_share['alice'], Decimal('0.1'))\n",
    "unittest.TestCase().assertEqual(f.shareholders_share['bob'], Decimal('0.3'))\n",
    "unittest.TestCase().assertEqual(f.shareholders_share['eve'], Decimal('0.6'))"
   ]
  },
  {
   "cell_type": "code",
   "execution_count": 7,
   "id": "78c12fff",
   "metadata": {},
   "outputs": [
    {
     "name": "stdout",
     "output_type": "stream",
     "text": [
      "token_prices {'WETH': [1649011727, Decimal('3000')], 'DAI': [31532400.0, 0]}\n",
      "HERE token WETH temp_token_price 3000\n",
      "HERE token DAI temp_token_price 0\n",
      "old usd balance 0\n",
      "shareholders {'alice2': Decimal('1')} old_usd_balance 0 new_usd_balance 3000\n",
      "token balances {'WETH': 1, 'DAI': 0}\n",
      "token_prices {'WETH': [1649011727, Decimal('3000')], 'DAI': [1649011727, Decimal('1')]}\n",
      "HERE token WETH temp_token_price 3000\n",
      "HERE token DAI temp_token_price 1\n",
      "old usd balance 3000\n",
      "new_pct 0.5 pct_total_holdings 1\n",
      "shareholders {'alice2': Decimal('0.5'), 'bob2': Decimal('0.5')} old_usd_balance 3000 new_usd_balance 6000\n",
      "token balances {'WETH': 1, 'DAI': 3000}\n"
     ]
    }
   ],
   "source": [
    "# Test WETH\n",
    "fweth = Fund()\n",
    "deposit_weth = 1\n",
    "fweth.deposit('alice2','WETH',deposit_weth)\n",
    "unittest.TestCase().assertEqual(fweth.token_balances['WETH'], deposit_weth)\n",
    "unittest.TestCase().assertEqual(fweth.shareholders_share['alice2'], Decimal(1))\n",
    "deposit_dai = 3000\n",
    "fweth.deposit('bob2','DAI',deposit_dai)\n",
    "#unittest.TestCase().assertEqual(fweth.token_balances['DAI'], deposit_dai)\n",
    "#unittest.TestCase().assertEqual(fweth.shareholders_share['alice2'], Decimal('0.5'))\n",
    "#unittest.TestCase().assertEqual(fweth.shareholders_share['bob2'], Decimal('0.5'))"
   ]
  },
  {
   "cell_type": "code",
   "execution_count": null,
   "id": "075598cf",
   "metadata": {},
   "outputs": [],
   "source": []
  }
 ],
 "metadata": {
  "kernelspec": {
   "display_name": "Python 3 (ipykernel)",
   "language": "python",
   "name": "python3"
  },
  "language_info": {
   "codemirror_mode": {
    "name": "ipython",
    "version": 3
   },
   "file_extension": ".py",
   "mimetype": "text/x-python",
   "name": "python",
   "nbconvert_exporter": "python",
   "pygments_lexer": "ipython3",
   "version": "3.9.7"
  }
 },
 "nbformat": 4,
 "nbformat_minor": 5
}
